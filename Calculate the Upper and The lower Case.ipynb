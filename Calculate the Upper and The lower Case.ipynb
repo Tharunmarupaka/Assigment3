{
 "cells": [
  {
   "cell_type": "markdown",
   "id": "c1a27300",
   "metadata": {},
   "source": [
    "Write a Python function that accepts a string and calculate the number of upper case letters and lower case letters.\n",
    "\n",
    "\n",
    "\n",
    "﻿Sample String : 'The quick Brow Fox'\n",
    "\n",
    "Expected Output :\n",
    "\n",
    "No. of Upper case characters : 3\n",
    "\n",
    "No. of Lower case Characters : 12"
   ]
  },
  {
   "cell_type": "code",
   "execution_count": 4,
   "id": "a7f5fc85",
   "metadata": {},
   "outputs": [
    {
     "name": "stdout",
     "output_type": "stream",
     "text": [
      "THEs is tharun bro\n",
      "No. of upper case characters : 3\n",
      "No. of lower case characters : 12\n"
     ]
    }
   ],
   "source": [
    "def String_count(a):\n",
    "    check_lower=0\n",
    "    check_upper=0\n",
    "    for i in a:\n",
    "        if(i.islower()):\n",
    "            check_lower=check_lower+1\n",
    "        elif(i.isupper()):\n",
    "            check_upper=check_upper+1\n",
    "    print(\"No. of upper case characters :\",check_upper)\n",
    "    print(\"No. of lower case characters :\",check_lower)\n",
    "s=input(\"\")       \n",
    "String_count(s)"
   ]
  },
  {
   "cell_type": "code",
   "execution_count": null,
   "id": "36e76ad3",
   "metadata": {},
   "outputs": [],
   "source": []
  },
  {
   "cell_type": "code",
   "execution_count": null,
   "id": "1f9bb4ed",
   "metadata": {},
   "outputs": [],
   "source": []
  },
  {
   "cell_type": "code",
   "execution_count": null,
   "id": "dd92e78a",
   "metadata": {},
   "outputs": [],
   "source": [
    "1\n"
   ]
  }
 ],
 "metadata": {
  "kernelspec": {
   "display_name": "Python 3 (ipykernel)",
   "language": "python",
   "name": "python3"
  },
  "language_info": {
   "codemirror_mode": {
    "name": "ipython",
    "version": 3
   },
   "file_extension": ".py",
   "mimetype": "text/x-python",
   "name": "python",
   "nbconvert_exporter": "python",
   "pygments_lexer": "ipython3",
   "version": "3.9.7"
  }
 },
 "nbformat": 4,
 "nbformat_minor": 5
}
